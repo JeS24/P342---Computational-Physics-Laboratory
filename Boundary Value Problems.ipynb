{
 "cells": [
  {
   "cell_type": "markdown",
   "metadata": {},
   "source": [
    "# Boundary Value Problems\n",
    "\n",
    "* Shooting Method\n",
    "* Relaxation Method\n",
    "* Over-relaxation Method (NOT IMPLEMENTED | EXPLAINED HERE: https://en.m.wikipedia.org/wiki/Successive_over-relaxation)"
   ]
  },
  {
   "cell_type": "markdown",
   "metadata": {},
   "source": [
    "## Shooting Method\n",
    "\n",
    "### I have NOT implemented a Plug & Play Method, but modifications are easy.\n",
    "\n",
    "### References: https://en.m.wikipedia.org/wiki/Shooting_method"
   ]
  },
  {
   "cell_type": "markdown",
   "metadata": {},
   "source": [
    "### WITHOUT USING RFA (Root Finding Algorithm)"
   ]
  },
  {
   "cell_type": "code",
   "execution_count": 3,
   "metadata": {},
   "outputs": [
    {
     "name": "stdout",
     "output_type": "stream",
     "text": [
      "SUCCESS | SOLUTION CONVERGED!\n"
     ]
    },
    {
     "data": {
      "image/png": "[encoded data removed]",
      "text/plain": [
       "<Figure size 432x288 with 1 Axes>"
      ]
     },
     "metadata": {
      "needs_background": "light"
     },
     "output_type": "display_data"
    }
   ],
   "source": [
    "import numpy as np, scipy as sc, matplotlib.pyplot as plt\n",
    "\n",
    "# Taken from ODEs.ipynb\n",
    "def leapfrog_solver(A, x0, v0, t0, tn, dt=1e-3):\n",
    "    \"\"\"\n",
    "    INPUT:\n",
    "    A: \"Accelaration\" | Function, on RHS of the original ODE\n",
    "    x0: Initial Condition | Value of x, at t = t0\n",
    "    v0: Initial Condition/Velocity | Value of dx/dt, at t = t0\n",
    "    t0: Start Time\n",
    "    tn: End Time\n",
    "    dt: Time Step Size | Default = 1e-3\n",
    "    OUTPUT:\n",
    "    t: numpy array | Timestamps, for which the system was solved\n",
    "    x: numpy array | The function to be solved for\n",
    "    \"\"\"\n",
    "    N = int(np.ceil((tn - t0)/dt))\n",
    "     \n",
    "    x = np.zeros(N, dtype=float)\n",
    "    v = np.zeros(N, dtype=float)\n",
    "    t = np.linspace(t0, tn, N, dtype=float)\n",
    "    \n",
    "    # Initial Conditions\n",
    "    x[0] = x0\n",
    "    v[0] = v0 + A(x[0])*(dt/2) # = v_{1/2} = v_0 + a_0(dt/2). Next step will be v_{3/2} == v[1] and so on...\n",
    "\n",
    "    for i in range(N-1):\n",
    "        x[i+1] = x[i] + v[i]*dt\n",
    "        v[i+1] = v[i] + A(x[i])*dt\n",
    "    \n",
    "    return t, x\n",
    "\n",
    "def bvp_shoot(f, x_lim, t_lim, v0_guesses, dt=1e-3):\n",
    "    \"\"\"\n",
    "    Shooting Algorithm for Boundary Value Problems\n",
    "    Uses Leapfrog Integration for the IVP & Newton-Raphson for Root Finding\n",
    "    \n",
    "    INPUT:\n",
    "    f: \"Accelaration\" | Function, on RHS of the original ODE\n",
    "    x_lim: Tuple | Contains Initial Conditions, x(t = t0) = x0 & x(t = tn) = xn | (x0, xn)\n",
    "    t_lim: Tuple | Contains Time Limits | Start Time, t0 and End Time, tn | (t0, tn)\n",
    "    v0_guesses: Numpy Array | Contains initial guesses for x'(t = t0)\n",
    "    dt: Time Step Size | Default = 1e-3\n",
    "    OUTPUT:\n",
    "    t: numpy array | Timestamps, for which the system was solved\n",
    "    x: numpy array | The function to be solved for\n",
    "    \"\"\"\n",
    "    SOL_FLAG = False # \"True\" indicates discovery of at least 1 solution\n",
    "    for i, v0 in enumerate(v0_guesses):\n",
    "        t, x = leapfrog_solver(f, x_lim[0], v0, *t_lim, dt)\n",
    "        if np.abs(x_lim[1] - x[-1]) <= 0.1: # TOL\n",
    "            plt.plot(t, x)\n",
    "            SOL_FLAG = True\n",
    "\n",
    "    if SOL_FLAG:\n",
    "        print(\"SUCCESS | SOLUTION CONVERGED!\")\n",
    "    else:\n",
    "        print(\"FAILURE | NO SOLUTION FOUND!\")\n",
    "     \n",
    "\n",
    "# MODULE TEST\n",
    "f = lambda x: 1.5*x**2\n",
    "x_lim = (4, 1)\n",
    "t_lim = (0, 1)\n",
    "v0_guesses = np.arange(-100, 0)\n",
    "dt = 1e-3\n",
    "\n",
    "bvp_shoot(f, x_lim, t_lim, v0_guesses, dt)"
   ]
  },
  {
   "cell_type": "markdown",
   "metadata": {},
   "source": [
    "### USING RFA (SECANT METHOD)"
   ]
  },
  {
   "cell_type": "code",
   "execution_count": 2,
   "metadata": {},
   "outputs": [
    {
     "name": "stdout",
     "output_type": "stream",
     "text": [
      "ROOT:  -10.0 64\n"
     ]
    },
    {
     "data": {
      "image/png": "[encoded data removed]",
      "text/plain": [
       "<Figure size 432x288 with 1 Axes>"
      ]
     },
     "metadata": {
      "needs_background": "light"
     },
     "output_type": "display_data"
    }
   ],
   "source": [
    "import numpy as np, scipy as sc, matplotlib.pyplot as plt\n",
    "\n",
    "# Taken from ODEs.ipynb\n",
    "def leapfrog_solver(A, x0, v0, t0, tn, dt=1e-3):\n",
    "    \"\"\"\n",
    "    INPUT:\n",
    "    A: \"Accelaration\" | Function, on RHS of the original ODE\n",
    "    x0: Initial Condition | Value of x, at t = t0\n",
    "    v0: Initial Condition/Velocity | Value of dx/dt, at t = t0\n",
    "    t0: Start Time\n",
    "    tn: End Time\n",
    "    dt: Time Step Size | Default = 1e-3\n",
    "    OUTPUT:\n",
    "    t: numpy array | Timestamps, for which the system was solved\n",
    "    x: numpy array | The function to be solved for\n",
    "    \"\"\"\n",
    "    N = int(np.ceil((tn - t0)/dt))\n",
    "     \n",
    "    x = np.zeros(N, dtype=float)\n",
    "    v = np.zeros(N, dtype=float)\n",
    "    t = np.linspace(t0, tn, N, dtype=float)\n",
    "    \n",
    "    # Initial Conditions\n",
    "    x[0] = x0\n",
    "    v[0] = v0 + A(x[0])*(dt/2) # = v_{1/2} = v_0 + a_0(dt/2). Next step will be v_{3/2} == v[1] and so on...\n",
    "\n",
    "    for i in range(N-1):\n",
    "        x[i+1] = x[i] + v[i]*dt\n",
    "        v[i+1] = v[i] + A(x[i])*dt\n",
    "    \n",
    "    return t, x\n",
    "\n",
    "# Adapted from rfa_secant() from Root Finding Algorithms.ipynb\n",
    "def rfa_secant(f, t0, t1, iters, tol=1e-6):\n",
    "    \"\"\"\n",
    "    f: Functional values, with index, for the function, whose root is to be found\n",
    "    t0: First guess for the root\n",
    "    t1: Second guess for the root\n",
    "    iters: Number of Iterations\n",
    "    tol: Tolerance value, for Meshing & Convergence Check\n",
    "    \"\"\"\n",
    "    func = np.take(f, indices=0, axis=1)\n",
    "    # Array of successive \"better\" guesses for the root (ideally)\n",
    "    t = np.array([t0, t1] + iters*[None], dtype=float)\n",
    "    # Initial Guesses\n",
    "    t[0], t[1] = t0, t1\n",
    "\n",
    "    for i in range(iters):\n",
    "        t[i+2] = t[i+1] - func[i+1]*((t[i+1] - t[i])/(func[i+1] - func[i]))\n",
    "        # Convergence Test\n",
    "        if np.abs(func[i+2]) <= tol:\n",
    "            return t[i+2], i+2\n",
    "    else:\n",
    "        print(\"Last calculated guess does not satisfy the Tolerance Limit, in the specified Number of Iterations.\")\n",
    "        return None\n",
    "    \n",
    "\n",
    "def bvp_shoot(f, x_lim, t_lim, v0_guesses, guess_for_rfa, dt=1e-3):\n",
    "    \"\"\"\n",
    "    Shooting Algorithm for Boundary Value Problems\n",
    "    Uses Leapfrog Integration for the IVP & Secant Method for Root Finding\n",
    "    \n",
    "    INPUT:\n",
    "    f: \"Accelaration\" | Function, on RHS of the original ODE\n",
    "    x_lim: Tuple | Contains Initial Conditions, x(t = t0) = x0 & x(t = tn) = xn | (x0, xn)\n",
    "    t_lim: Tuple | Contains Time Limits | Start Time, t0 and End Time, tn | (t0, tn)\n",
    "    v0_guesses: Numpy Array | Contains initial guesses for x'(t = t0)\n",
    "    guess_for_rfa: Tuple | Contains the Initial Root Guess, Number of Iterations and Tolerance Value for RFA | (x0, x1, iters, tol)\n",
    "    dt: Time Step Size | Default = 1e-3\n",
    "    OUTPUT:\n",
    "    t: numpy array | Timestamps, for which the system was solved\n",
    "    x: numpy array | The function to be solved for\n",
    "    \"\"\"\n",
    "    F, t0, x0 = [], [], []\n",
    "    for i, v0 in enumerate(v0_guesses):\n",
    "        t, x = leapfrog_solver(f, x_lim[0], v0, *t_lim, dt)\n",
    "        t0.append(t)\n",
    "        x0.append(x)\n",
    "        F.append([x_lim[1] - x[-1], i]) # Function at x1, whose roots are to be found | 'i' is to coorelate with guess\n",
    "    \n",
    "    root, index = rfa_secant(np.array(F, dtype=float), *guess_for_rfa)\n",
    "    print(\"ROOT: \", root, index)\n",
    "    \n",
    "    if root is not None: # If root is found, it means, A SOLUTION has been found\n",
    "        return t0[index], x0[index]\n",
    "    else:\n",
    "        print(\"Solution did not converge.\")\n",
    "        return None, None\n",
    "\n",
    "\n",
    "# MODULE TEST\n",
    "f = lambda x: 1.5*x**2\n",
    "x_lim = (4, 1)\n",
    "t_lim = (0, 1)\n",
    "v0_guesses = np.arange(-100, 0)\n",
    "\n",
    "\n",
    "t0_rfa = -10\n",
    "t1_rfa = -10\n",
    "iters_rfa = 100\n",
    "tol_rfa = 0.1\n",
    "\n",
    "guess_for_rfa = (t0_rfa, t1_rfa, iters_rfa, tol_rfa)\n",
    "dt = 1e-3\n",
    "\n",
    "t_res, x_res = bvp_shoot(f, x_lim, t_lim, v0_guesses, guess_for_rfa, dt)\n",
    "if t_res is not None and x_res is not None:\n",
    "    plt.plot(t_res, x_res, label='NOT NONE')\n",
    "    plt.legend()"
   ]
  },
  {
   "cell_type": "markdown",
   "metadata": {},
   "source": [
    "## Relaxation Method\n",
    "\n",
    "* Relaxation methods are methods of solving (Partial) Differential Equations, that involve splitting the sparse matrix, that arises from Finite Differencing, then iterating, until a solution is found. ([Wolfram MathWorld](http://mathworld.wolfram.com/RelaxationMethods.html))\n",
    "\n",
    "\n",
    "#### Example ODE & Solution (from my Semester Exam):\n",
    "\n",
    "$$\\frac{d^2y}{dx^2} + \\frac{1}{x}\\frac{dy}{dx} + \\left(1 - \\frac{1}{x^2}\\right)y =  x, \\quad y(0) = 0,\\:\\:y(5) = 1$$\n",
    "\n",
    "Discretizing (using Trapezoidal Rule):\n",
    "\n",
    "$$\\frac{y_{i+1} + y_{i-1} - 2y_i}{h^2} +  \\frac{1}{x_i}\\left(\\frac{y_{i+1} - y_{i-1}}{2h}\\right) + \\left(1 - \\frac{1}{x_i^2}\\right)y_i = x_i$$\n",
    "\n",
    "On collecting terms, we get;\n",
    "\n",
    "$$y_{i+1}\\left(\\frac{1}{h^2} + \\frac{1}{2x_ih}\\right) + y_{i}\\left(1 - \\frac{2}{h^2} - \\frac{1}{x_i^2}\\right) +  y_{i-1}\\left(\\frac{1}{h^2} - \\frac{1}{2x_ih}\\right) = x_i$$\n",
    "\n",
    "So, now, we have our coefficients to plug into $A$ and $B$, in the matrix equation, $AY = B \\implies Y = A^{-1}B$, where $A$ has the coefficients of $y_{i-1}, y_{i}, y{i+1}$, per step, while $B$ contains $x_i$.\n",
    "\n",
    "* Here, I had checked the Invertibility of $A$, and then plugged into `inv()`. Reason for using `inv()`, instead of usual Linear Equation Solvers is simply the availability of `inv()` and no other solver (Library functions were not allowed). The usual process would involve using such Solvers and not direct Matrix Inversion. Although, as remarked in the code below, the inversion process itself encapsulates many of the processes used in such Solvers."
   ]
  },
  {
   "cell_type": "code",
   "execution_count": 5,
   "metadata": {},
   "outputs": [
    {
     "data": {
      "image/png": "[encoded data removed]",
      "text/plain": [
       "<Figure size 576x432 with 1 Axes>"
      ]
     },
     "metadata": {
      "needs_background": "light"
     },
     "output_type": "display_data"
    }
   ],
   "source": [
    "import numpy as np, matplotlib.pyplot as plt\n",
    "\n",
    "def Inv(A):\n",
    "    \"\"\"\n",
    "    Return the inverse of a square matrix, A\n",
    "    Makes use of the LU Decomposition procedure implicitly\n",
    "    \"\"\"\n",
    "    # Input Check | If A is not square or if A is singular\n",
    "    if(A.shape[0] != A.shape[1] or np.linalg.det(A) == 0):\n",
    "        print(\"The given matrix is not invertible.\\n\")\n",
    "        return None\n",
    "    \n",
    "    else:\n",
    "        dim = A.shape[0]\n",
    "        left_aug = A # Left portion of Augmented Matrix\n",
    "        Inv = np.identity(dim)  # Inverse of A\n",
    "        \n",
    "        # Making Inv, Lower Triangular, and left_aug, Upper Triangular\n",
    "        for i in np.arange(dim-1):\n",
    "            for j in np.arange(i+1, dim):\n",
    "                Inv[j] = Inv[j] - (left_aug[j][i]/left_aug[i][i])*Inv[i]  # Row Operation for Inv\n",
    "                left_aug[j] = left_aug[j] - (left_aug[j][i]/left_aug[i][i])*left_aug[i]  # Row Operation for left_aug\n",
    "        \n",
    "        for i in np.arange(1, dim):\n",
    "            for j in np.arange(0,i):\n",
    "                Inv[j] = Inv[j] - (left_aug[j][i]/left_aug[i][i])*Inv[i]  # Row Operation for Inv\n",
    "                left_aug[j] = left_aug[j] - (left_aug[j][i]/left_aug[i][i])*left_aug[i]  # Making left_aug, Diagonal\n",
    "        \n",
    "        for i in np.arange(dim):\n",
    "            Inv[i]= Inv[i]/left_aug[i][i]  \n",
    "            left_aug[i] = left_aug[i]/left_aug[i][i]  # Comparing with elements of Identity Matrix\n",
    "            \n",
    "        return Inv\n",
    "\n",
    "\n",
    "# STEPS\n",
    "N = 30\n",
    "# LIMITS\n",
    "x0, xn = 0, 5\n",
    "y0, yn = 0, 1\n",
    "# STEP-SIZE\n",
    "h = ((xn - x0)/N)\n",
    "\n",
    "xi = np.linspace(x0, xn, N+1)\n",
    "\n",
    "# MATRIX EQUATION: AY = B => Y = inv(A)*B\n",
    "# CREATING A\n",
    "A = np.zeros((N+1, N+1), dtype=float)\n",
    "A[0, 0] = 1\n",
    "A[-1, -1] = 1\n",
    "\n",
    "for i in range(1, 30): # 1 TO 29\n",
    "    A[i][i-1] = (1/h**2) - (1/2*xi[i]*h)\n",
    "    A[i][i] = 1 - (2/h**2) - (1/xi[i]**2)\n",
    "    A[i][i+1] = (1/h**2) + (1/2*xi[i]*h)\n",
    "    \n",
    "# CREATING B\n",
    "B = np.concatenate(([y0], xi[1:-1], [yn]))\n",
    "\n",
    "# INVERSE OF A\n",
    "A_inv = Inv(A)\n",
    "# FINAL SOLUTION\n",
    "yi = np.dot(A_inv, B)\n",
    "\n",
    "plt.figure(figsize=(8, 6))\n",
    "plt.plot(xi, yi, \"o-\", label=\"$y(x)$\")\n",
    "plt.xlabel(\"$x$\", fontsize=15)\n",
    "plt.ylabel(\"$y(x)$\", fontsize=15)\n",
    "plt.title(\"Solution for the ODE\", fontsize=16)\n",
    "plt.legend()\n",
    "plt.grid(True)"
   ]
  }
 ],
 "metadata": {
  "kernelspec": {
   "display_name": "Python 3",
   "language": "python",
   "name": "python3"
  },
  "language_info": {
   "codemirror_mode": {
    "name": "ipython",
    "version": 3
   },
   "file_extension": ".py",
   "mimetype": "text/x-python",
   "name": "python",
   "nbconvert_exporter": "python",
   "pygments_lexer": "ipython3",
   "version": "3.7.4"
  }
 },
 "nbformat": 4,
 "nbformat_minor": 2
}
