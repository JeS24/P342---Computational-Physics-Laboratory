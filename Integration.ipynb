{
 "cells": [
  {
   "cell_type": "markdown",
   "metadata": {},
   "source": [
    "# Integration\n",
    "* Simple/Linear\n",
    "* Trapezoial\n",
    "* Simpson\n",
    "* Simpson 3/8\n",
    "* Bode\n",
    "\n",
    "\n",
    "* Inbuilt packages - For error-checking:\n",
    "    * `scipy.integrate.trapz(y, x=None, dx=1.0, axis=-1)` or `np.trapz()`\n",
    "    * `scipy.integrate.simps(y, x=None, dx=1, axis=-1, even='avg')` NOT PRESENT IN NUMPY\n",
    "    * `scipy.integrate.quad(func, a, b, args=(), full_output=0, epsabs=1.49e-08, epsrel=1.49e-08, limit=50, points=None, weight=None, wvar=None, wopts=None, maxp1=50, limlst=50)` - Takes function and limits as input -  Returns absolute error, as well\n",
    "    * `scipy.integrate.newton_cotes(rn, equal=0)` - Returns Coefficients/Weights of the Newton-Cotes Series, that can be weighted-summed (over functional values) linearly - Integration Order = N | (0 to N)\n",
    "    * Others: `scipy.integrate.dblquad` or `scipy.integrate.tplquad`.\n",
    "\n",
    "### Notes:\n",
    "\n",
    "* Indexing from $0$ to $N(-1)$ (Array Indexing)."
   ]
  },
  {
   "cell_type": "code",
   "execution_count": 3,
   "metadata": {},
   "outputs": [],
   "source": [
    "# Basic Imports\n",
    "import numpy as np,\\\n",
    "       scipy as sc,\\\n",
    "       matplotlib.pyplot as plt"
   ]
  },
  {
   "cell_type": "markdown",
   "metadata": {},
   "source": [
    "## Simple/Linear\n",
    "$$I_{Lin} = \\sum_{i = 1}^N {f(x_i)}\\Delta x$$"
   ]
  },
  {
   "cell_type": "code",
   "execution_count": 11,
   "metadata": {},
   "outputs": [],
   "source": [
    "def lin_int(n0, n1, func, step=1e-3):\n",
    "    \"\"\"\n",
    "    INPUT:\n",
    "    n0: Lower Limit\n",
    "    n1: Upper Limit\n",
    "    func: Function, to be integrated\n",
    "    step: Step-size\n",
    "    OUTPUT:\n",
    "    I: Integral Value\n",
    "    \"\"\"\n",
    "    N = np.ceil((n1-n0)/step) # Number of Slices\n",
    "    x = np.linspace(n0, n1, N, dtype=float)\n",
    "    f = np.array(func(x), dtype=float) # Array to store functional values\n",
    "        \n",
    "    # To store the integral value\n",
    "    I = np.sum(f*step)\n",
    "\n",
    "    return I"
   ]
  },
  {
   "cell_type": "markdown",
   "metadata": {},
   "source": [
    "# Newton-Cotes Quadrature Rules\n",
    "\n",
    "* A group of formulae, for numerical integration, based on evaluating the integrand at equally spaced points.\n",
    "\n",
    "* For example,\n",
    "    * Trapezoial\n",
    "    * Simpson\n",
    "    * Simpson 3/8\n",
    "    * Bode"
   ]
  },
  {
   "cell_type": "markdown",
   "metadata": {},
   "source": [
    "## Trapezoial (Extended)\n",
    "\n",
    "$$I_{Trap} = \\left(\\frac{f(x_0) + f(x_N)}{2} + \\sum_{i = 1}^{N-1} {f(x_i)}\\right)\\Delta x + \\mathcal{O}(\\Delta x^2f'')$$"
   ]
  },
  {
   "cell_type": "code",
   "execution_count": 5,
   "metadata": {},
   "outputs": [],
   "source": [
    "def trap_int(n0, n1, func, step=1e-3):\n",
    "    \"\"\"\n",
    "    INPUT:\n",
    "    n0: Lower Limit\n",
    "    n1: Upper Limit\n",
    "    func: Function, to be integrated\n",
    "    step: Step-size\n",
    "    OUTPUT:\n",
    "    I: Integral Value\n",
    "    \"\"\"\n",
    "    N = np.ceil((n1-n0)/step) # Number of Slices\n",
    "    x = np.linspace(n0, n1, N, dtype=float)\n",
    "    f = np.array(func(x), dtype=float) # Array to store functional values\n",
    "        \n",
    "    # To store the integral value\n",
    "    I = ((f[0] + f[-1])/2 + np.sum(f[1:-1]))*step\n",
    "\n",
    "    return I"
   ]
  },
  {
   "cell_type": "markdown",
   "metadata": {},
   "source": [
    "## Simpson (Extended)\n",
    "\n",
    "For even $N$: $I_{Simps} = f(x_0) + f(x_N) + \\sum_{i = 1}^{N-2}\\frac{\\Delta x}{3}\\left(4f(x_{i}) + 2f(x_{i+1})\\right) + \\mathcal{O}(\\Delta x^4f^{(4)})$\n",
    "\n",
    "For odd $N$: $I_{Simps} \\:\\:+\\!= \\:I_{Correction}$\n",
    "\n",
    "Where, $I_{Correction} = \\frac{\\Delta x}{12}\\left[5f(x_N) + 8f(x_{N-1}) - f(x_{N-2})\\right]$\n",
    "\n",
    "### Notes\n",
    "\n",
    "* The non-extended formula has (1, 4, 1) weights, with error as: $\\mathcal{O}(\\Delta x^5f^{(4)})$."
   ]
  },
  {
   "cell_type": "code",
   "execution_count": 10,
   "metadata": {},
   "outputs": [],
   "source": [
    "def simps_int(n0, n1, func, step=1e-3):\n",
    "    \"\"\"\n",
    "    INPUT:\n",
    "    n0: Lower Limit\n",
    "    n1: Upper Limit\n",
    "    func: Function, to be integrated\n",
    "    step: Step-size\n",
    "    OUTPUT:\n",
    "    I: Integral Value\n",
    "    \"\"\"\n",
    "    N = np.ceil((n1-n0)/step) # Number of Slices\n",
    "    x = np.linspace(n0, n1, N, dtype=float)\n",
    "    f = np.array(func(x), dtype=float) # Array to store functional values\n",
    "    \n",
    "    # To store the integral value\n",
    "    I = 0.\n",
    "    # For Even N\n",
    "    for i in range(0, int(N)):\n",
    "        if i == 0 or i == N-1:\n",
    "            I += f[i]\n",
    "        elif i%2: # i = [1, 3, 5, 7,..., N-3]\n",
    "            I += 4*f[i]\n",
    "        else: # i = [2, 4, 6, 8,..., N-2]\n",
    "            I += 2*f[i]\n",
    "    \n",
    "    I *= (step/3)\n",
    "    \n",
    "    if N%2: # Odd N\n",
    "        I_corr = (step/12)*(5*f[-1] + 8*f[-2] - f[-3])\n",
    "        I += I_corr\n",
    "    \n",
    "    return I"
   ]
  },
  {
   "cell_type": "markdown",
   "metadata": {},
   "source": [
    "## Simpson 3/8\n",
    "\n",
    "$$I_{Simps3/8} = \\left(\\sum_{i = 0}^{N-3} {3f(x_i) + 9f(x_{i+1}) + 9f(x_{i+2}) + 3f(x_{i+3})}\\right)\\frac{\\Delta x}{8} + \\mathcal{O}(\\Delta x^5f^{(4)})$$"
   ]
  },
  {
   "cell_type": "code",
   "execution_count": 9,
   "metadata": {},
   "outputs": [],
   "source": [
    "def simps_3_8_int(n0, n1, func, step=1e-3):\n",
    "    \"\"\"\n",
    "    INPUT:\n",
    "    n0: Lower Limit\n",
    "    n1: Upper Limit\n",
    "    func: Function, to be integrated\n",
    "    step: Step-size\n",
    "    OUTPUT:\n",
    "    I: Integral Value\n",
    "    \"\"\"\n",
    "    N = np.ceil((n1-n0)/step) # Number of Slices\n",
    "    x = np.linspace(n0, n1, N, dtype=float)\n",
    "    f = np.array(func(x), dtype=float) # Array to store functional values\n",
    "    \n",
    "    # Manipulating f, in order to make it suitable for later summation\n",
    "    # Padding with 0s\n",
    "    f_app = f\n",
    "    mod = N%4\n",
    "    if mod != 0:\n",
    "        f_app = np.append(f, np.zeros(int(4-mod)))\n",
    "    \n",
    "    # To store the integral value\n",
    "    I = 0.\n",
    "    for i in range(0, f_app.size-3, 3):\n",
    "        I += 3*f_app[i] + 9*f_app[i+1] + 9*f_app[i+2] + 3*f_app[i+3]\n",
    "    \n",
    "    I *= (step/8)\n",
    "    \n",
    "    return I"
   ]
  },
  {
   "cell_type": "markdown",
   "metadata": {},
   "source": [
    "## Bode\n",
    "\n",
    "$$I_{Bode} = \\left(\\sum_{i = 0}^{N-4} {14f(x_i) + 64f(x_{i+1}) + 24f(x_{i+2}) + 64f(x_{i+3}) + 14f(x_{i+4})}\\right)\\frac{\\Delta x}{45} + \\mathcal{O}(\\Delta x^7f^{(6)})$$"
   ]
  },
  {
   "cell_type": "code",
   "execution_count": 5,
   "metadata": {},
   "outputs": [],
   "source": [
    "def bode_int(n0, n1, func, step=1e-3):\n",
    "    \"\"\"\n",
    "    INPUT:\n",
    "    n0: Lower Limit\n",
    "    n1: Upper Limit\n",
    "    func: Function, to be integrated\n",
    "    step: Step-size\n",
    "    OUTPUT:\n",
    "    I: Integral Value\n",
    "    \"\"\"\n",
    "    N = np.ceil((n1-n0)/step) # Number of Slices\n",
    "    x = np.linspace(n0, n1, N, dtype=float)\n",
    "    f = np.array(func(x), dtype=float) # Array to store functional values\n",
    "    \n",
    "    # Manipulating f, in order to make it suitable for later summation\n",
    "    # Padding with 0s\n",
    "    f_app = f\n",
    "    mod = N%5\n",
    "    if mod != 0:\n",
    "        f_app = np.append(f, np.zeros(int(5-mod)))\n",
    "    \n",
    "    # To store the integral value\n",
    "    I = 0.\n",
    "    for i in range(0, f_app.size-4, 4):\n",
    "        I += 14*f_app[i] + 64*f_app[i+1] + 24*f_app[i+2] + 64*f_app[i+3] + 14*f_app[i+4]\n",
    "    \n",
    "    I *= (step/45)\n",
    "    \n",
    "    return I"
   ]
  },
  {
   "cell_type": "markdown",
   "metadata": {},
   "source": [
    "## For Testing Purposes"
   ]
  },
  {
   "cell_type": "code",
   "execution_count": 13,
   "metadata": {},
   "outputs": [
    {
     "name": "stdout",
     "output_type": "stream",
     "text": [
      "1.7180193954128475\n",
      "1.7181100002762\n",
      "1.7172946380503402\n"
     ]
    }
   ],
   "source": [
    "# Parameters\n",
    "a, b = 0, 1\n",
    "step = 1e-3 # Default is 1e-3\n",
    "\n",
    "# In-Function Variables\n",
    "N = np.ceil((b-a)/step) # Number of Slices\n",
    "# print(N)\n",
    "\n",
    "# Function Definitions\n",
    "lin = lambda x: x\n",
    "quad = lambda x: x**2\n",
    "cubic = lambda x: x**3\n",
    "biquad = lambda x: x**4\n",
    "sin = lambda x: np.sin(x)\n",
    "cos= lambda x: np.cos(x)\n",
    "tan = lambda x: np.tan(x)\n",
    "sqrt = lambda x: np.sqrt(x)\n",
    "\n",
    "\n",
    "func = lambda x: np.exp(x)\n",
    "x = np.linspace(a, b, N)\n",
    "f = np.array(func(x), dtype=float)\n",
    "\n",
    "# print(lin_int(a, b, step=1e-3, func=cos)) # Works with func = cos | 0 to PI | I = 0 (EXACT)\n",
    "# print(trap_int(a, b, step=1e-3, func=cos)) # Doesn't give correct result for func = cos | 0 to PI | I = 0 \n",
    "print(simps_int(0, 1, step=1e-4, func=lambda x: np.exp(x)))  # Works (kinda) with I = 0 (e.g. func = cos | 0 to PI) | I = 0 \n",
    "print(simps_3_8_int(0, 1, step=1e-4, func=lambda x: np.exp(x))) # Doesn't give correct result for func = cos | 0 to PI | I = 0 \n",
    "print(bode_int(0, 1, step=1e-4, func=lambda x: np.exp(x))) # Works (kinda) with func = cos | 0 to PI | I = 0\n",
    "\n",
    "\n",
    "\n",
    "from scipy import integrate as inte\n",
    "# print(inte.trapz(f, x, dx=step)) # In-built Trapezoidal - EXACT\n",
    "# print(inte.simps(f, x, dx=step)) # In-built Simpson - NOT EXACT\n",
    "# print(inte.quad(func, a, b)) # In-built Quadrature from FORTRAN's QUADPACK - Returns absolute error, as well - NOT EXACT\n",
    "\n",
    "# In-built Netwon-Cotes - Returns Coefficients of the Series - EXACT\n",
    "# exact = 2\n",
    "# for N in [2, 4, 6, 8, 10]:\n",
    "#    x = np.linspace(a, b, N + 1)\n",
    "#    an, B = inte.newton_cotes(N, 1)\n",
    "#    dx = (b - a) / N\n",
    "#    quad = dx * np.sum(an * func(x))\n",
    "#    error = abs(quad - exact)\n",
    "#    print('{:2d}  {:10.9f}  {:.5e}'.format(N, quad, error))"
   ]
  },
  {
   "cell_type": "markdown",
   "metadata": {},
   "source": [
    "## TIDBITS"
   ]
  },
  {
   "cell_type": "code",
   "execution_count": null,
   "metadata": {},
   "outputs": [],
   "source": [
    "# Manipulating f, in order to make it suitable for later summation\n",
    "f_appended = f\n",
    "mod = N%3\n",
    "if mod != 0:\n",
    "    f_appended = np.append(f, np.zeros(int(3-mod)))\n",
    "\n",
    "f_reshaped = np.reshape(f_appended, (int(np.ceil(N/3)), 3))\n",
    "\n",
    "# Weights for summation\n",
    "weights = np.array([1, 4, 2], dtype=float)\n",
    "sum_vec = np.dot(f_reshaped, weights) \n",
    "\n",
    "I = (step/3)*np.sum(sum_vec)"
   ]
  }
 ],
 "metadata": {
  "kernelspec": {
   "display_name": "Python 3",
   "language": "python",
   "name": "python3"
  },
  "language_info": {
   "codemirror_mode": {
    "name": "ipython",
    "version": 3
   },
   "file_extension": ".py",
   "mimetype": "text/x-python",
   "name": "python",
   "nbconvert_exporter": "python",
   "pygments_lexer": "ipython3",
   "version": "3.7.4"
  }
 },
 "nbformat": 4,
 "nbformat_minor": 2
}
